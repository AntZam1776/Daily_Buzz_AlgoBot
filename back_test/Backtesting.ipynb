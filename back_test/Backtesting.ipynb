{
 "cells": [
  {
   "cell_type": "code",
   "execution_count": 48,
   "id": "f96eec89-5674-41ff-a0a7-56d2276f8e7e",
   "metadata": {},
   "outputs": [],
   "source": [
    "import quandl\n",
    "import pandas as pd\n",
    "import numpy as np\n",
    "import alpaca_trade_api as tradeapi\n",
    "from alpaca_trade_api.rest import REST, TimeFrame, TimeFrameUnit\n",
    "import datetime as dt\n",
    "import os\n",
    "import hvplot.pandas\n"
   ]
  },
  {
   "cell_type": "code",
   "execution_count": 49,
   "id": "73ed759b-34dc-4665-a2b0-bcb9a53d48c7",
   "metadata": {
    "tags": []
   },
   "outputs": [],
   "source": [
    "# Alpaca API keys, set in env \n",
    "api_key = os.environ.get('APCA_API_KEY_ID')\n",
    "api_secret = os.environ.get('APCA_API_SECRET_KEY')\n",
    "\n",
    "# Quandl API\n",
    "quandl.ApiConfig.api_key = os.environ.get('QUANDL_API')\n",
    "\n",
    "# Alpaca API endpoint\n",
    "base_url = 'https://data.alpaca.markets/v2'\n",
    "\n",
    "# instantiate REST alpaca API\n",
    "api = REST(api_key, api_secret, base_url, api_version='v2')\n",
    "\n",
    "\n"
   ]
  },
  {
   "cell_type": "code",
   "execution_count": 50,
   "id": "3d8dc22d-a57b-408b-9626-0f78e2c6b2eb",
   "metadata": {
    "tags": []
   },
   "outputs": [],
   "source": [
    "# Reading trading dates CSV\n",
    "date_csv = pd.read_csv(\"trade_dates.csv\")"
   ]
  },
  {
   "cell_type": "code",
   "execution_count": 53,
   "id": "a1686a82-55f6-4d54-9123-06f3213ec08e",
   "metadata": {
    "tags": []
   },
   "outputs": [],
   "source": [
    "# Back testing for specefic date : weekends and or holidays will return error \"type object 'object' has no attribute 'dtype'\". \n",
    "# Usage per trade will be calculated by account size over total trades per day \n",
    "          \n",
    "def backtest_date(account_size, stop_loss_percent, trades_per_day):\n",
    "  \n",
    "    trade_USD = account_size/trades_per_day\n",
    "    profit_for_day = []\n",
    "    stoped = []\n",
    "    tickers = []\n",
    "    day_counter = 0\n",
    "\n",
    "    for d in range(len(date_csv)-1):        \n",
    "        # Generate quandl data\n",
    "        accending =  quandl.get_table('NDAQ/RTAT', date=date_csv[\"date\"][d]).sort_values(by = \"sentiment\", axis = 0, ascending=False, ignore_index = True).head(trades_per_day)\n",
    "        day_counter += 1\n",
    "\n",
    "        # Calculate profit \n",
    "        for i in range(len(accending)):\n",
    "\n",
    "            # Get tiker data and calculate profit for given day\n",
    "            min_15_close = api.get_bars(accending[\"ticker\"][i], TimeFrame(15, TimeFrameUnit.Minute), date_csv[\"date\"][d+1], adjustment='raw', limit = 1).df\n",
    "            day_close = api.get_bars(accending[\"ticker\"][i], TimeFrame.Day, date_csv[\"date\"][d+1], adjustment='raw', limit = 1).df\n",
    "            profit = round((day_close[\"close\"][0] - min_15_close[\"close\"][0])*((1/min_15_close[\"close\"][0])*trade_USD), 2)\n",
    "            daily_percent_drop = ((day_close[\"close\"][0] - min_15_close[\"close\"][0])/min_15_close[\"close\"][0])*100\n",
    "            tickers.append(accending[\"ticker\"][i])\n",
    "\n",
    "            # Calculate is stop loss was hit or trade PNL         \n",
    "            if profit != 0:\n",
    "                if daily_percent_drop < (-1*stop_loss_percent):\n",
    "                    profit_for_day.append(trade_USD*((-stop_loss_percent/100)))\n",
    "                    stoped.append(accending[\"ticker\"][i])\n",
    "                else:\n",
    "                    profit_for_day.append(profit)\n",
    "\n",
    "    print(f\"day counter = {day_counter}.\")\n",
    "\n",
    "    return profit_for_day"
   ]
  },
  {
   "cell_type": "code",
   "execution_count": null,
   "id": "a61ee66e-fefa-4464-bc70-149ee3d33b27",
   "metadata": {
    "tags": []
   },
   "outputs": [
    {
     "name": "stderr",
     "output_type": "stream",
     "text": [
      "sleep 3 seconds and retrying https://data.alpaca.markets/v2/stocks/KDFI/bars 3 more time(s)...\n"
     ]
    }
   ],
   "source": [
    "# Running function to provide data for plotting and profit\n",
    "backtest_date(100000, 1, 10)\n",
    "pnl = backtest_date(100000, 1, 10)"
   ]
  },
  {
   "cell_type": "code",
   "execution_count": null,
   "id": "c12db416-e98e-4129-8388-f3b1ffd43af3",
   "metadata": {
    "tags": []
   },
   "outputs": [],
   "source": [
    "# Calculating start and end date of trading days\n",
    "start = date_csv[\"date\"][0]\n",
    "end = date_csv[\"date\"][len(date_csv[\"date\"])-1]\n",
    "\n",
    "# Calculating cumsum profit\n",
    "profit_df = pd.DataFrame(pnl).cumsum()\n",
    "\n",
    "# Plotting profit data and printing key data\n",
    "plot_pnl = profit_df.hvplot(ylabel = \"PNL\", xlabel = \"Trade Index\", title = f\"Buzzscore Backtest 5 Trades Daily  -  PNL ${round(sum(pnl), 2)}     [{start}\"f\"  -  {end}]\")\n",
    "print(f\"PNL = ${sum(pnl)}\")\n",
    "print(f\"Trade Count = {len(pnl)}\")\n",
    "print(f\"Max win trade = ${max(pnl)}\")\n",
    "print(f\"Max loss trade = ${min(pnl)}\")\n",
    "print(f\"AVG trade value = ${round(sum(pnl)/len(pnl),2)}\")\n",
    "print(f\"Start/End date = {start}\"f\" - {end}\")\n",
    "plot_pnl"
   ]
  },
  {
   "cell_type": "code",
   "execution_count": null,
   "id": "ee5b4c37-5012-4446-a036-6e2d64803d56",
   "metadata": {},
   "outputs": [],
   "source": [
    "std_plot = profit_df.plot(kind = \"box\")"
   ]
  },
  {
   "cell_type": "code",
   "execution_count": null,
   "id": "72772c56-8ea4-4f2b-a39e-f6608a084bb5",
   "metadata": {},
   "outputs": [],
   "source": []
  }
 ],
 "metadata": {
  "kernelspec": {
   "display_name": "Python 3",
   "language": "python",
   "name": "python3"
  },
  "language_info": {
   "codemirror_mode": {
    "name": "ipython",
    "version": 3
   },
   "file_extension": ".py",
   "mimetype": "text/x-python",
   "name": "python",
   "nbconvert_exporter": "python",
   "pygments_lexer": "ipython3",
   "version": "3.8.8"
  }
 },
 "nbformat": 4,
 "nbformat_minor": 5
}
