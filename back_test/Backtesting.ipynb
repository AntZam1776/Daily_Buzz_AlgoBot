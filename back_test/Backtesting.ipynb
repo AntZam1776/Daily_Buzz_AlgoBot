{
 "cells": [
  {
   "cell_type": "code",
   "execution_count": 999,
   "id": "f96eec89-5674-41ff-a0a7-56d2276f8e7e",
   "metadata": {},
   "outputs": [],
   "source": [
    "import quandl\n",
    "import pandas as pd\n",
    "import numpy as np\n",
    "import alpaca_trade_api as tradeapi\n",
    "from alpaca_trade_api.rest import REST, TimeFrame, TimeFrameUnit\n",
    "import datetime as dt\n",
    "import os\n",
    "import workdays as wd\n",
    "from pandas.tseries.offsets import BDay\n",
    "import hvplot.pandas"
   ]
  },
  {
   "cell_type": "code",
   "execution_count": 1000,
   "id": "73ed759b-34dc-4665-a2b0-bcb9a53d48c7",
   "metadata": {
    "tags": []
   },
   "outputs": [],
   "source": [
    "# alpaca api\n",
    "api_key = 'PKNQW3ANWI8S5XGMW7Y4'\n",
    "api_secret = 'W30pwTcmTjA5sx7ZFDa3W0Qs51BgjpjlF7HEcdKy'\n",
    "base_url = 'https://data.alpaca.markets/v2'\n",
    "\n",
    "# instantiate REST alpaca API\n",
    "api = REST(api_key, api_secret, base_url, api_version='v2')\n",
    "\n",
    "# Quandl API\n",
    "# api = \"-J3Zifi-_zSU2eiyHtxc\"\n",
    "quandl.ApiConfig.api_key = \"-J3Zifi-_zSU2eiyHtxc\""
   ]
  },
  {
   "cell_type": "code",
   "execution_count": 1001,
   "id": "cd86b42a-d5f7-4e45-b4b5-93b5a71245a5",
   "metadata": {},
   "outputs": [],
   "source": [
    "# # Generate an list of timestamps\n",
    "# base_open = dt.datetime(2021, 1, 4)\n",
    "# date_list_open = [base_open + dt.timedelta(days=x) for x in range(50)]\n",
    "# date_list_open = pd.DataFrame(date_list_open)"
   ]
  },
  {
   "cell_type": "code",
   "execution_count": 1002,
   "id": "220f76f1-6738-42ea-a7c8-d2322baaaa86",
   "metadata": {
    "tags": []
   },
   "outputs": [],
   "source": [
    "# # Dropping non business days\n",
    "# isBusinessDay = BDay().onOffset\n",
    "# match_series = pd.to_datetime(date_list_open[0]).map(isBusinessDay)\n",
    "# date_list_open = date_list_open[match_series]\n",
    "\n",
    "# # Converting back to DataFrame\n",
    "# date_df = pd.DataFrame(date_list_open)\n",
    "\n",
    "# date_df"
   ]
  },
  {
   "cell_type": "code",
   "execution_count": 1003,
   "id": "3d8dc22d-a57b-408b-9626-0f78e2c6b2eb",
   "metadata": {
    "tags": []
   },
   "outputs": [],
   "source": [
    "# # Adding Column name\n",
    "# date_df.columns = [\"date\"]\n",
    "\n",
    "# # Convert to csv to fix indexing\n",
    "# date_df.to_csv(\"trade_dates.csv\")\n",
    "\n",
    "# # Read CSV with fixed indexing\n",
    "\n",
    "date_csv = pd.read_csv(\"trade_dates.csv\")"
   ]
  },
  {
   "cell_type": "code",
   "execution_count": 1008,
   "id": "a1686a82-55f6-4d54-9123-06f3213ec08e",
   "metadata": {
    "tags": []
   },
   "outputs": [],
   "source": [
    "# Back testing for specefic date : weekends and or holidays will return error \"type object 'object' has no attribute 'dtype'\". \n",
    "# Trades per day must >= 5\n",
    "\n",
    "          \n",
    "def backtest_date(trade_USD, stop_loss_percent, trades_per_day):\n",
    "  \n",
    "    profit_for_day = []\n",
    "    stoped = []\n",
    "    tickers = []\n",
    "    day_counter = 0\n",
    "\n",
    "    for d in range(len(date_csv)-1):        \n",
    "        # Generate quandl data\n",
    "        accending =  quandl.get_table('NDAQ/RTAT', date=date_csv[\"date\"][d]).sort_values(by = \"sentiment\", axis = 0, ascending=False, ignore_index = True).head(trades_per_day)\n",
    "        day_counter += 1\n",
    "\n",
    "        # Calculate profit \n",
    "        for i in range(len(accending)):\n",
    "\n",
    "            # Get tiker data and calculate profit for given day\n",
    "            min_15_close = api.get_bars(accending[\"ticker\"][i], TimeFrame(15, TimeFrameUnit.Minute), date_csv[\"date\"][d+1], adjustment='raw', limit = 1).df\n",
    "            day_close = api.get_bars(accending[\"ticker\"][i], TimeFrame.Day, date_csv[\"date\"][d+1], adjustment='raw', limit = 1).df\n",
    "            profit = round((day_close[\"close\"][0] - min_15_close[\"close\"][0])*((1/min_15_close[\"close\"][0])*trade_USD), 2)\n",
    "            daily_percent_drop = ((day_close[\"close\"][0] - min_15_close[\"close\"][0])/min_15_close[\"close\"][0])*100\n",
    "            tickers.append(accending[\"ticker\"][i])\n",
    "\n",
    "            # Calculate is stop loss was hit or trade PNL         \n",
    "            if profit != 0:\n",
    "                if daily_percent_drop < (-1*stop_loss_percent):\n",
    "                    profit_for_day.append(trade_USD*((-stop_loss_percent/100)))\n",
    "                    stoped.append(accending[\"ticker\"][i])\n",
    "                else:\n",
    "                    profit_for_day.append(profit)\n",
    "\n",
    "#         profit_sum = sum(profit_for_day)\n",
    "#         print(f\"PNl is ${round(profit_sum, 2)} for {date_of_trades}, trade count = {len(accending)}.\")\n",
    "#         print(f\"ticker/s = {tickers}.\")\n",
    "#         print(f\"trade values = {profit_for_day}.\")\n",
    "\n",
    "    print(f\"day counter = {day_counter}.\")\n",
    "\n",
    "    return profit_for_day"
   ]
  },
  {
   "cell_type": "code",
   "execution_count": 1009,
   "id": "a61ee66e-fefa-4464-bc70-149ee3d33b27",
   "metadata": {
    "tags": []
   },
   "outputs": [
    {
     "name": "stderr",
     "output_type": "stream",
     "text": [
      "sleep 3 seconds and retrying https://data.alpaca.markets/v2/stocks/NLR/bars 3 more time(s)...\n",
      "sleep 3 seconds and retrying https://data.alpaca.markets/v2/stocks/HYUP/bars 3 more time(s)...\n",
      "sleep 3 seconds and retrying https://data.alpaca.markets/v2/stocks/BSCR/bars 3 more time(s)...\n",
      "sleep 3 seconds and retrying https://data.alpaca.markets/v2/stocks/PBTP/bars 3 more time(s)...\n",
      "sleep 3 seconds and retrying https://data.alpaca.markets/v2/stocks/BSDE/bars 3 more time(s)...\n",
      "sleep 3 seconds and retrying https://data.alpaca.markets/v2/stocks/RAYC/bars 3 more time(s)...\n",
      "sleep 3 seconds and retrying https://data.alpaca.markets/v2/stocks/INTG/bars 3 more time(s)...\n",
      "sleep 3 seconds and retrying https://data.alpaca.markets/v2/stocks/CNNB/bars 3 more time(s)...\n",
      "sleep 3 seconds and retrying https://data.alpaca.markets/v2/stocks/IBCE/bars 3 more time(s)...\n",
      "sleep 3 seconds and retrying https://data.alpaca.markets/v2/stocks/LIVK/bars 3 more time(s)...\n",
      "sleep 3 seconds and retrying https://data.alpaca.markets/v2/stocks/AVIG/bars 3 more time(s)...\n",
      "sleep 3 seconds and retrying https://data.alpaca.markets/v2/stocks/AGMH/bars 3 more time(s)...\n",
      "sleep 3 seconds and retrying https://data.alpaca.markets/v2/stocks/FLLA/bars 3 more time(s)...\n",
      "sleep 3 seconds and retrying https://data.alpaca.markets/v2/stocks/SCHI/bars 3 more time(s)...\n",
      "sleep 3 seconds and retrying https://data.alpaca.markets/v2/stocks/IQSU/bars 3 more time(s)...\n",
      "sleep 3 seconds and retrying https://data.alpaca.markets/v2/stocks/EMSG/bars 3 more time(s)...\n",
      "sleep 3 seconds and retrying https://data.alpaca.markets/v2/stocks/QED/bars 3 more time(s)...\n",
      "sleep 3 seconds and retrying https://data.alpaca.markets/v2/stocks/CBTG/bars 3 more time(s)...\n",
      "sleep 3 seconds and retrying https://data.alpaca.markets/v2/stocks/CBTG/bars 3 more time(s)...\n",
      "sleep 3 seconds and retrying https://data.alpaca.markets/v2/stocks/GSJY/bars 3 more time(s)...\n",
      "sleep 3 seconds and retrying https://data.alpaca.markets/v2/stocks/VPOP/bars 3 more time(s)...\n"
     ]
    },
    {
     "name": "stdout",
     "output_type": "stream",
     "text": [
      "day counter = 28.\n"
     ]
    },
    {
     "name": "stderr",
     "output_type": "stream",
     "text": [
      "sleep 3 seconds and retrying https://data.alpaca.markets/v2/stocks/PSAC/bars 3 more time(s)...\n",
      "sleep 3 seconds and retrying https://data.alpaca.markets/v2/stocks/KDFI/bars 3 more time(s)...\n",
      "sleep 3 seconds and retrying https://data.alpaca.markets/v2/stocks/BKAG/bars 3 more time(s)...\n",
      "sleep 3 seconds and retrying https://data.alpaca.markets/v2/stocks/IBHE/bars 3 more time(s)...\n",
      "sleep 3 seconds and retrying https://data.alpaca.markets/v2/stocks/HOL/bars 3 more time(s)...\n",
      "sleep 3 seconds and retrying https://data.alpaca.markets/v2/stocks/NVQ/bars 3 more time(s)...\n",
      "sleep 3 seconds and retrying https://data.alpaca.markets/v2/stocks/CIL/bars 3 more time(s)...\n",
      "sleep 3 seconds and retrying https://data.alpaca.markets/v2/stocks/DBMF/bars 3 more time(s)...\n",
      "sleep 3 seconds and retrying https://data.alpaca.markets/v2/stocks/GSJY/bars 3 more time(s)...\n",
      "sleep 3 seconds and retrying https://data.alpaca.markets/v2/stocks/AAMC/bars 3 more time(s)...\n",
      "sleep 3 seconds and retrying https://data.alpaca.markets/v2/stocks/RCA/bars 3 more time(s)...\n",
      "sleep 3 seconds and retrying https://data.alpaca.markets/v2/stocks/LIVK/bars 3 more time(s)...\n",
      "sleep 3 seconds and retrying https://data.alpaca.markets/v2/stocks/SCHI/bars 3 more time(s)...\n",
      "sleep 3 seconds and retrying https://data.alpaca.markets/v2/stocks/IQSI/bars 3 more time(s)...\n",
      "sleep 3 seconds and retrying https://data.alpaca.markets/v2/stocks/FPA/bars 3 more time(s)...\n",
      "sleep 3 seconds and retrying https://data.alpaca.markets/v2/stocks/XJH/bars 3 more time(s)...\n",
      "sleep 3 seconds and retrying https://data.alpaca.markets/v2/stocks/QLC/bars 3 more time(s)...\n",
      "sleep 3 seconds and retrying https://data.alpaca.markets/v2/stocks/DJAN/bars 3 more time(s)...\n",
      "sleep 3 seconds and retrying https://data.alpaca.markets/v2/stocks/HEGD/bars 3 more time(s)...\n",
      "sleep 3 seconds and retrying https://data.alpaca.markets/v2/stocks/CBTG/bars 3 more time(s)...\n",
      "sleep 3 seconds and retrying https://data.alpaca.markets/v2/stocks/AZBJ/bars 3 more time(s)...\n",
      "sleep 3 seconds and retrying https://data.alpaca.markets/v2/stocks/INFL/bars 3 more time(s)...\n"
     ]
    },
    {
     "name": "stdout",
     "output_type": "stream",
     "text": [
      "day counter = 28.\n"
     ]
    }
   ],
   "source": [
    "backtest_date(10000, 1)\n",
    "pnl = backtest_date(10000, 1)"
   ]
  },
  {
   "cell_type": "code",
   "execution_count": 1010,
   "id": "6fbc84e4-2fe0-4790-b510-71ab6df4f995",
   "metadata": {},
   "outputs": [],
   "source": [
    "start = date_csv[\"date\"][0]\n",
    "end = date_csv[\"date\"][28]"
   ]
  },
  {
   "cell_type": "code",
   "execution_count": 1007,
   "id": "c12db416-e98e-4129-8388-f3b1ffd43af3",
   "metadata": {
    "tags": []
   },
   "outputs": [
    {
     "name": "stdout",
     "output_type": "stream",
     "text": [
      "PNL = $2537.0299999999993\n",
      "Trade Count = 249\n",
      "Max win trade = $454.4\n",
      "Max loss trade = $-100.0\n",
      "AVG trade value = $10.19\n",
      "Start/End date = 2021-01-04 - 2021-02-12\n"
     ]
    },
    {
     "data": {},
     "metadata": {},
     "output_type": "display_data"
    },
    {
     "data": {
      "application/vnd.holoviews_exec.v0+json": "",
      "text/html": [
       "<div id='9488'>\n",
       "\n",
       "\n",
       "\n",
       "\n",
       "\n",
       "  <div class=\"bk-root\" id=\"017d00bd-677e-4685-8217-1dd6421887ba\" data-root-id=\"9488\"></div>\n",
       "</div>\n",
       "<script type=\"application/javascript\">(function(root) {\n",
       "  function embed_document(root) {\n",
       "    var docs_json = {\"0dcd7200-9c2e-4370-8508-44aa646e53aa\":{\"defs\":[{\"extends\":null,\"module\":null,\"name\":\"ReactiveHTML1\",\"overrides\":[],\"properties\":[]},{\"extends\":null,\"module\":null,\"name\":\"FlexBox1\",\"overrides\":[],\"properties\":[{\"default\":\"flex-start\",\"kind\":null,\"name\":\"align_content\"},{\"default\":\"flex-start\",\"kind\":null,\"name\":\"align_items\"},{\"default\":\"row\",\"kind\":null,\"name\":\"flex_direction\"},{\"default\":\"wrap\",\"kind\":null,\"name\":\"flex_wrap\"},{\"default\":\"flex-start\",\"kind\":null,\"name\":\"justify_content\"}]},{\"extends\":null,\"module\":null,\"name\":\"TemplateActions1\",\"overrides\":[],\"properties\":[{\"default\":0,\"kind\":null,\"name\":\"open_modal\"},{\"default\":0,\"kind\":null,\"name\":\"close_modal\"}]},{\"extends\":null,\"module\":null,\"name\":\"MaterialTemplateActions1\",\"overrides\":[],\"properties\":[{\"default\":0,\"kind\":null,\"name\":\"open_modal\"},{\"default\":0,\"kind\":null,\"name\":\"close_modal\"}]}],\"roots\":{\"references\":[{\"attributes\":{\"margin\":[5,5,5,5],\"name\":\"HSpacer15044\",\"sizing_mode\":\"stretch_width\"},\"id\":\"9558\",\"type\":\"Spacer\"},{\"attributes\":{\"overlay\":{\"id\":\"9515\"}},\"id\":\"9513\",\"type\":\"BoxZoomTool\"},{\"attributes\":{},\"id\":\"9545\",\"type\":\"UnionRenderers\"},{\"attributes\":{},\"id\":\"9500\",\"type\":\"LinearScale\"},{\"attributes\":{\"children\":[{\"id\":\"9489\"},{\"id\":\"9493\"},{\"id\":\"9558\"}],\"margin\":[0,0,0,0],\"name\":\"Row15039\",\"tags\":[\"embedded\"]},\"id\":\"9488\",\"type\":\"Row\"},{\"attributes\":{\"coordinates\":null,\"data_source\":{\"id\":\"9523\"},\"glyph\":{\"id\":\"9526\"},\"group\":null,\"hover_glyph\":null,\"muted_glyph\":{\"id\":\"9528\"},\"nonselection_glyph\":{\"id\":\"9527\"},\"selection_glyph\":{\"id\":\"9531\"},\"view\":{\"id\":\"9530\"}},\"id\":\"9529\",\"type\":\"GlyphRenderer\"},{\"attributes\":{},\"id\":\"9511\",\"type\":\"PanTool\"},{\"attributes\":{\"axis\":{\"id\":\"9502\"},\"coordinates\":null,\"grid_line_color\":null,\"group\":null,\"ticker\":null},\"id\":\"9505\",\"type\":\"Grid\"},{\"attributes\":{\"tools\":[{\"id\":\"9492\"},{\"id\":\"9510\"},{\"id\":\"9511\"},{\"id\":\"9512\"},{\"id\":\"9513\"},{\"id\":\"9514\"}]},\"id\":\"9516\",\"type\":\"Toolbar\"},{\"attributes\":{\"source\":{\"id\":\"9523\"}},\"id\":\"9530\",\"type\":\"CDSView\"},{\"attributes\":{\"line_alpha\":0.1,\"line_color\":\"#30a2da\",\"line_width\":2,\"x\":{\"field\":\"index\"},\"y\":{\"field\":\"0\"}},\"id\":\"9527\",\"type\":\"Line\"},{\"attributes\":{\"data\":{\"0\":{\"__ndarray__\":\"H4XrUbgeQ0CvR+F6FK4yQLkehetRuDJA2KNwPQrXNkCkcD0K1yNVQK5H4XoULlBAUrgehet5Y0B7FK5H4cpgQFyPwvUo/FBASOF6FK4HQMD2KFyPwlVLwD4K16NwVWPAfBSuR+GaZcCbmZmZmSlmwLBH4XoUNmHAIYXrUbiOYcBACtejcHVrwCCF61G4+nPAPwrXo3DZc8CwR+F6FNp0wJyZmZmZ7XDAMlyPwvXoXcAPrkfheuxmQNKjcD0Kr2ZAYWZmZmZeZ0BNuB6F61FoQE24HoXr4WFAJFyPwvUAY0BXj8L1KIRjQJ9wPQrXy2JA9v////8vXkBSj8L1KIxcQIrC9Shc32JAQuF6FK5fY0D6/////x9jQGBmZmZmVmdAwMzMzMysVUBuPQrXo7hxQPMoXI/CsXBA/f////9LcUD6/////xdmQKhH4XoUlmNAKFyPwvWCgEBwPQrXo4KAQMzMzMzMmoBAo3A9CtcdhUD1KFyPwv2EQGZmZmZmwIRAXI/C9SjAhEAfhetRuEqEQOJ6FK5Ho4RAC9ejcD1IhUBnZmZmZoCGQB+F61G4QoZA4noUrkelhkCvR+F6FOKGQEnhehSui4VASeF6FK5rgkC6HoXrUWKBQF6PwvUoWIFAxPUoXI8wgkC6HoXrUdKCQIfrUbgeB4RASuF6FK7vgkBzPQrXo5SBQJLC9ShccYBAX4/C9SiQgEDao3A9CieFQEAK16NwH4RAksL1KFyNgUAarkfhelR+QIvrUbgeGX5AlcL1KFz7fkAkhetRuCZ/QGxmZmZmfn9AVbgeheszgEBO4XoUruN/QPkoXI/Cq4BA71G4HoVtgEBqZmZmZqiAQJ2ZmZmZ245AFq5H4Xo2kUA/CtejcM+QQIfrUbgeMZZAh+tRuB6hlEBK4XoUrrWUQBeuR+F6upRADdejcD2hlEDF9Shcj5uWQPgoXI/C9JZApnA9Ctd/l0DPzMzMzHWXQHM9CtejXJdAcz0K16PMlUDPzMzMzEKWQHM9CtejBphA5HoUrkdBmECI61G4HpKZQCKF61G455hANjMzMzMEmUDao3A9Co2ZQHQ9CtejmZlAdD0K16OWmEBBCtejcPKbQO9RuB6FoZtA26NwPQo1nEDbo3A9CoGbQNujcD0K8ZlADtejcD11nUBL4XoUrkueQDczMzMz355AGK5H4XoJn0AYrkfhesefQH4Urkfhj55AfhSuR+H/nEAihetRuAOeQNqjcD0Kgp5AIoXrUbgInkDlehSuR4eeQC1cj8L1V55Ak8L1KFw9nUCocD0K14ueQAQAAAAAYJ5AQQrXo3DgnUCTwvUoXKSdQLJH4XoUNJ1A0czMzMyunEA3MzMzM4+cQJ2ZmZmZA5xANzMzMzO3m0AjhetRuB6cQJ6ZmZmZW5tATOF6FK5wm0BM4XoUruCZQEzhehSuUJhA+ihcj8LbmECyR+F6FBmZQLJH4XoUiZdADtejcD36lUD6KFyPwsWVQC1cj8L13JRAYI/C9SjhlEDbo3A9CniUQEzhehSuG5lATOF6FK7smEBWuB6F66eYQLwehetRD5tAvB6F61FgnEDbo3A9CkacQKhwPQrXH51AqHA9CtePm0CJ61G4HmybQGCPwvUoqZpAskfhehQanECyR+F6FIqaQLJH4XoU+phAYI/C9SiwmEAEAAAAANCYQGCPwvUoVpdAdD0K16MBl0BBCtejcOeVQNDMzMzMOJVA0MzMzMyok0CxR+F6FKKVQIjrUbgeGJZAS+F6FK7AlEAO16NwPYOVQNHMzMzMCJZAnpmZmZnolUAEAAAAAMqXQNujcD0KHphAx/UoXI9emEDH9Shcj86WQC1cj8L1aJdA0czMzMzYl0AtXI/C9dGYQPooXI/C+ZhAYI/C9SjgmUCocD0K11maQLJH4XoUz5pAskfhehQ/mUAEAAAAADOZQLJH4XoUeJpAietRuB4qm0Dbo3A9CtqbQJPC9Shcl5tAp3A9Ctdmm0AYrkfhenKbQLJH4XoUZZ9AskfhehTVnUCyR+F6FNqeQAQAAAAAzJ9AsEfhehQ3oUArXI/CdUihQLoehetRwqFA2aNwPYrfoUA1MzMzs/KhQLBH4XqUPaJANTMzM7OrokDE9ShcD6uiQCCF61G45KJAXY/C9SjNokA+CtejcMWiQOJ6FK7HyqJAmpmZmRn9okAVrkfh+hWjQFK4HoXrF6NApHA9ClfiokAzMzMzMwWjQIXrUbieIaNAhetRuB5do0C4HoXrUVWjQMzMzMxMlaNAzMzMzEy2o0DC9ShcD9GjQHoUrkdhBqRA9Shcj0IKpEBbj8L1KA6kQAnXo3A9NqRAUbgeheuZo0B6FK5HYaGkQDIzMzOzOaVAjsL1KNzZpEC3HoXrUeSkQPQoXI9C8qRARuF6FC4TpUDVo3A9CvykQJiZmZmZ/aRAmJmZmZk1pEDgehSuR+2jQK1H4XoUi6RAW4/C9ahLpEDMzMzMzBekQI/C9Sjc+qNAHoXrUTgqpEBmZmZmZj+kQArXo3A9T6RAwvUoXA9BpEAoXI/CdfujQK1H4XqUyaNA1qNwPYqPo0BwPQrXI7+jQML1KFwPMqRAzMzMzMyWpEDC9ShcD5OkQChcj8J1EaVAKFyPwnVJpEBlZmZm5gCkQMH1KFwP0qNA\",\"dtype\":\"float64\",\"order\":\"little\",\"shape\":[249]},\"A_0\":{\"__ndarray__\":\"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\",\"dtype\":\"float64\",\"order\":\"little\",\"shape\":[249]},\"index\":[0,1,2,3,4,5,6,7,8,9,10,11,12,13,14,15,16,17,18,19,20,21,22,23,24,25,26,27,28,29,30,31,32,33,34,35,36,37,38,39,40,41,42,43,44,45,46,47,48,49,50,51,52,53,54,55,56,57,58,59,60,61,62,63,64,65,66,67,68,69,70,71,72,73,74,75,76,77,78,79,80,81,82,83,84,85,86,87,88,89,90,91,92,93,94,95,96,97,98,99,100,101,102,103,104,105,106,107,108,109,110,111,112,113,114,115,116,117,118,119,120,121,122,123,124,125,126,127,128,129,130,131,132,133,134,135,136,137,138,139,140,141,142,143,144,145,146,147,148,149,150,151,152,153,154,155,156,157,158,159,160,161,162,163,164,165,166,167,168,169,170,171,172,173,174,175,176,177,178,179,180,181,182,183,184,185,186,187,188,189,190,191,192,193,194,195,196,197,198,199,200,201,202,203,204,205,206,207,208,209,210,211,212,213,214,215,216,217,218,219,220,221,222,223,224,225,226,227,228,229,230,231,232,233,234,235,236,237,238,239,240,241,242,243,244,245,246,247,248]},\"selected\":{\"id\":\"9524\"},\"selection_policy\":{\"id\":\"9545\"}},\"id\":\"9523\",\"type\":\"ColumnDataSource\"},{\"attributes\":{},\"id\":\"9536\",\"type\":\"BasicTickFormatter\"},{\"attributes\":{},\"id\":\"9514\",\"type\":\"ResetTool\"},{\"attributes\":{},\"id\":\"9503\",\"type\":\"BasicTicker\"},{\"attributes\":{},\"id\":\"9507\",\"type\":\"BasicTicker\"},{\"attributes\":{\"line_color\":\"#30a2da\",\"line_width\":2,\"x\":{\"field\":\"index\"},\"y\":{\"field\":\"0\"}},\"id\":\"9526\",\"type\":\"Line\"},{\"attributes\":{},\"id\":\"9534\",\"type\":\"AllLabels\"},{\"attributes\":{\"margin\":[5,5,5,5],\"name\":\"HSpacer15043\",\"sizing_mode\":\"stretch_width\"},\"id\":\"9489\",\"type\":\"Spacer\"},{\"attributes\":{\"axis\":{\"id\":\"9506\"},\"coordinates\":null,\"dimension\":1,\"grid_line_color\":null,\"group\":null,\"ticker\":null},\"id\":\"9509\",\"type\":\"Grid\"},{\"attributes\":{},\"id\":\"9537\",\"type\":\"AllLabels\"},{\"attributes\":{\"end\":248.0,\"reset_end\":248.0,\"reset_start\":0.0,\"tags\":[[[\"index\",\"index\",null]]]},\"id\":\"9490\",\"type\":\"Range1d\"},{\"attributes\":{\"below\":[{\"id\":\"9502\"}],\"center\":[{\"id\":\"9505\"},{\"id\":\"9509\"}],\"height\":300,\"left\":[{\"id\":\"9506\"}],\"margin\":[5,5,5,5],\"min_border_bottom\":10,\"min_border_left\":10,\"min_border_right\":10,\"min_border_top\":10,\"renderers\":[{\"id\":\"9529\"}],\"sizing_mode\":\"fixed\",\"title\":{\"id\":\"9494\"},\"toolbar\":{\"id\":\"9516\"},\"width\":700,\"x_range\":{\"id\":\"9490\"},\"x_scale\":{\"id\":\"9498\"},\"y_range\":{\"id\":\"9491\"},\"y_scale\":{\"id\":\"9500\"}},\"id\":\"9493\",\"subtype\":\"Figure\",\"type\":\"Plot\"},{\"attributes\":{\"line_color\":\"#30a2da\",\"line_width\":2,\"x\":{\"field\":\"index\"},\"y\":{\"field\":\"0\"}},\"id\":\"9531\",\"type\":\"Line\"},{\"attributes\":{\"end\":3021.8979999999992,\"reset_end\":3021.8979999999992,\"reset_start\":-638.6780000000001,\"start\":-638.6780000000001,\"tags\":[[[\"0\",\"0\",null]]]},\"id\":\"9491\",\"type\":\"Range1d\"},{\"attributes\":{},\"id\":\"9524\",\"type\":\"Selection\"},{\"attributes\":{},\"id\":\"9533\",\"type\":\"BasicTickFormatter\"},{\"attributes\":{\"callback\":null,\"renderers\":[{\"id\":\"9529\"}],\"tags\":[\"hv_created\"],\"tooltips\":[[\"index\",\"@{index}\"],[\"0\",\"@{A_0}\"]]},\"id\":\"9492\",\"type\":\"HoverTool\"},{\"attributes\":{},\"id\":\"9510\",\"type\":\"SaveTool\"},{\"attributes\":{},\"id\":\"9498\",\"type\":\"LinearScale\"},{\"attributes\":{},\"id\":\"9512\",\"type\":\"WheelZoomTool\"},{\"attributes\":{\"axis_label\":\"Trade Index\",\"coordinates\":null,\"formatter\":{\"id\":\"9533\"},\"group\":null,\"major_label_policy\":{\"id\":\"9534\"},\"ticker\":{\"id\":\"9503\"}},\"id\":\"9502\",\"type\":\"LinearAxis\"},{\"attributes\":{\"line_alpha\":0.2,\"line_color\":\"#30a2da\",\"line_width\":2,\"x\":{\"field\":\"index\"},\"y\":{\"field\":\"0\"}},\"id\":\"9528\",\"type\":\"Line\"},{\"attributes\":{\"bottom_units\":\"screen\",\"coordinates\":null,\"fill_alpha\":0.5,\"fill_color\":\"lightgrey\",\"group\":null,\"left_units\":\"screen\",\"level\":\"overlay\",\"line_alpha\":1.0,\"line_color\":\"black\",\"line_dash\":[4,4],\"line_width\":2,\"right_units\":\"screen\",\"syncable\":false,\"top_units\":\"screen\"},\"id\":\"9515\",\"type\":\"BoxAnnotation\"},{\"attributes\":{\"axis_label\":\"PNL\",\"coordinates\":null,\"formatter\":{\"id\":\"9536\"},\"group\":null,\"major_label_policy\":{\"id\":\"9537\"},\"ticker\":{\"id\":\"9507\"}},\"id\":\"9506\",\"type\":\"LinearAxis\"},{\"attributes\":{\"coordinates\":null,\"group\":null,\"text\":\"Buzzscore Backtest 5 Trades Daily  -  PNL $2537.03     [2021-01-04  -  2021-02-12]\",\"text_color\":\"black\",\"text_font_size\":\"12pt\"},\"id\":\"9494\",\"type\":\"Title\"}],\"root_ids\":[\"9488\"]},\"title\":\"Bokeh Application\",\"version\":\"2.4.1\"}};\n",
       "    var render_items = [{\"docid\":\"0dcd7200-9c2e-4370-8508-44aa646e53aa\",\"root_ids\":[\"9488\"],\"roots\":{\"9488\":\"017d00bd-677e-4685-8217-1dd6421887ba\"}}];\n",
       "    root.Bokeh.embed.embed_items_notebook(docs_json, render_items);\n",
       "  }\n",
       "  if (root.Bokeh !== undefined && root.Bokeh.Panel !== undefined) {\n",
       "    embed_document(root);\n",
       "  } else {\n",
       "    var attempts = 0;\n",
       "    var timer = setInterval(function(root) {\n",
       "      if (root.Bokeh !== undefined && root.Bokeh.Panel !== undefined) {\n",
       "        clearInterval(timer);\n",
       "        embed_document(root);\n",
       "      } else if (document.readyState == \"complete\") {\n",
       "        attempts++;\n",
       "        if (attempts > 200) {\n",
       "          clearInterval(timer);\n",
       "          console.log(\"Bokeh: ERROR: Unable to run BokehJS code because BokehJS library is missing\");\n",
       "        }\n",
       "      }\n",
       "    }, 25, root)\n",
       "  }\n",
       "})(window);</script>"
      ],
      "text/plain": [
       ":Curve   [index]   (0)"
      ]
     },
     "execution_count": 1007,
     "metadata": {
      "application/vnd.holoviews_exec.v0+json": {
       "id": "9488"
      }
     },
     "output_type": "execute_result"
    }
   ],
   "source": [
    "profit_df = pd.DataFrame(pnl).cumsum()\n",
    "plot_pnl = profit_df.hvplot(ylabel = \"PNL\", xlabel = \"Trade Index\", title = f\"Buzzscore Backtest 5 Trades Daily  -  PNL ${round(sum(pnl), 2)}     [{start}\"f\"  -  {end}]\")\n",
    "print(f\"PNL = ${sum(pnl)}\")\n",
    "print(f\"Trade Count = {len(pnl)}\")\n",
    "print(f\"Max win trade = ${max(pnl)}\")\n",
    "print(f\"Max loss trade = ${min(pnl)}\")\n",
    "print(f\"AVG trade value = ${round(sum(pnl)/len(pnl),2)}\")\n",
    "print(f\"Start/End date = {start}\"f\" - {end}\")\n",
    "plot_pnl"
   ]
  },
  {
   "cell_type": "code",
   "execution_count": 994,
   "id": "eed277d8-7bac-4141-a5bd-43fea134df0b",
   "metadata": {},
   "outputs": [
    {
     "ename": "AttributeError",
     "evalue": "'list' object has no attribute 'std'",
     "output_type": "error",
     "traceback": [
      "\u001b[1;31m---------------------------------------------------------------------------\u001b[0m",
      "\u001b[1;31mAttributeError\u001b[0m                            Traceback (most recent call last)",
      "\u001b[1;32m<ipython-input-994-b8727e69e129>\u001b[0m in \u001b[0;36m<module>\u001b[1;34m\u001b[0m\n\u001b[1;32m----> 1\u001b[1;33m \u001b[0mpnl\u001b[0m\u001b[1;33m.\u001b[0m\u001b[0mstd\u001b[0m\u001b[1;33m(\u001b[0m\u001b[1;33m)\u001b[0m\u001b[1;33m\u001b[0m\u001b[1;33m\u001b[0m\u001b[0m\n\u001b[0m",
      "\u001b[1;31mAttributeError\u001b[0m: 'list' object has no attribute 'std'"
     ]
    }
   ],
   "source": []
  },
  {
   "cell_type": "code",
   "execution_count": null,
   "id": "3e02c657-6981-4be7-ad12-04afbc2492bf",
   "metadata": {},
   "outputs": [],
   "source": []
  }
 ],
 "metadata": {
  "kernelspec": {
   "display_name": "Python 3",
   "language": "python",
   "name": "python3"
  },
  "language_info": {
   "codemirror_mode": {
    "name": "ipython",
    "version": 3
   },
   "file_extension": ".py",
   "mimetype": "text/x-python",
   "name": "python",
   "nbconvert_exporter": "python",
   "pygments_lexer": "ipython3",
   "version": "3.8.8"
  }
 },
 "nbformat": 4,
 "nbformat_minor": 5
}
