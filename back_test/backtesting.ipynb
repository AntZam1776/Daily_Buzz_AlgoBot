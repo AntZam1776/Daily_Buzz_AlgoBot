{
 "cells": [
  {
   "cell_type": "code",
   "execution_count": 32,
   "id": "a36de966-8009-4698-8e5d-bc1debf8ebaa",
   "metadata": {
    "tags": []
   },
   "outputs": [],
   "source": [
    "import quandl\n",
    "import pandas as pd\n",
    "import numpy as np\n",
    "import alpaca_trade_api as tradeapi\n",
    "from alpaca_trade_api.rest import REST, TimeFrame, TimeFrameUnit\n",
    "import datetime as dt\n",
    "import os\n",
    "import hvplot.pandas "
   ]
  },
  {
   "cell_type": "code",
   "execution_count": 35,
   "id": "8b052f04-2953-4807-9169-0aaeafabd369",
   "metadata": {},
   "outputs": [],
   "source": [
    "# Alpaca API keys, set in env \n",
    "api_key = os.environ.get('APCA_API_KEY_ID')\n",
    "api_secret = os.environ.get('APCA_API_SECRET_KEY')\n",
    "\n",
    "# Quandl API\n",
    "quandl.ApiConfig.api_key = os.environ.get('QUANDL_API')\n",
    "\n",
    "# Alpaca API endpoint\n",
    "base_url = 'https://data.alpaca.markets/v2'\n",
    "\n",
    "# instantiate REST alpaca API\n",
    "api = REST(api_key, api_secret, base_url, api_version='v2')"
   ]
  },
  {
   "cell_type": "code",
   "execution_count": 36,
   "id": "db58bbee-fbd3-4866-ba31-0b52645361a3",
   "metadata": {},
   "outputs": [],
   "source": [
    "# Reading trading dates CSV\n",
    "date_csv = pd.read_csv(\"trade_dates.csv\")"
   ]
  },
  {
   "cell_type": "code",
   "execution_count": 37,
   "id": "239792d8-bc21-4a60-8dd7-12883fab8ad2",
   "metadata": {},
   "outputs": [],
   "source": [
    "# Back testing for specefic date : weekends and or holidays will return error \"type object 'object' has no attribute 'dtype'\". \n",
    "# Usage per trade will be calculated by account size over total trades per day \n",
    "          \n",
    "def backtest(account_size, stop_loss_percent, trades_per_day):\n",
    "  \n",
    "    trade_USD = account_size/trades_per_day\n",
    "    profit_for_day = []\n",
    "    stoped = []\n",
    "    tickers = []\n",
    "    day_counter = 0\n",
    "\n",
    "    for d in range(len(date_csv)-1):        \n",
    "        # Generate quandl data\n",
    "        accending =  quandl.get_table('NDAQ/RTAT', date=date_csv[\"date\"][d]).sort_values(by = \"sentiment\", axis = 0, ascending=False, ignore_index = True).head(trades_per_day)\n",
    "        day_counter += 1\n",
    "\n",
    "        # Calculate profit \n",
    "        for i in range(len(accending)):\n",
    "\n",
    "            # Get tiker data and calculate profit for given day\n",
    "            min_15_close = api.get_bars(accending[\"ticker\"][i], TimeFrame(15, TimeFrameUnit.Minute), date_csv[\"date\"][d+1], adjustment='raw', limit = 1).df\n",
    "            day_close = api.get_bars(accending[\"ticker\"][i], TimeFrame.Day, date_csv[\"date\"][d+1], adjustment='raw', limit = 1).df\n",
    "            profit = round((day_close[\"close\"][0] - min_15_close[\"close\"][0])*((1/min_15_close[\"close\"][0])*trade_USD), 2)\n",
    "            daily_percent_drop = ((day_close[\"close\"][0] - min_15_close[\"close\"][0])/min_15_close[\"close\"][0])*100\n",
    "            tickers.append(accending[\"ticker\"][i])\n",
    "\n",
    "            # Calculate is stop loss was hit or trade PNL         \n",
    "            if profit != 0:\n",
    "                if daily_percent_drop < (-1*stop_loss_percent):\n",
    "                    profit_for_day.append(trade_USD*((-stop_loss_percent/100)))\n",
    "                    stoped.append(accending[\"ticker\"][i])\n",
    "                else:\n",
    "                    profit_for_day.append(profit)\n",
    "\n",
    "    print(f\"Days traded, {day_counter}.\")\n",
    "    print(f\"Usage, USD per trade, ${trade_USD}.\")\n",
    "\n",
    "\n",
    "    return profit_for_day"
   ]
  },
  {
   "cell_type": "code",
   "execution_count": 38,
   "id": "a89f1bfa-7058-42a8-a9dd-780602337111",
   "metadata": {},
   "outputs": [
    {
     "name": "stdout",
     "output_type": "stream",
     "text": [
      "Days traded, 28.\n",
      "Usage, USD per trade, $20000.0.\n",
      "Days traded, 28.\n",
      "Usage, USD per trade, $20000.0.\n"
     ]
    }
   ],
   "source": [
    "# Running function to provide data for plotting and profit\n",
    "# Parameters backtest(account_size, stop_loss_percent, trades_per_day)\n",
    "\n",
    "backtest(100000, 1, 5)\n",
    "pnl = backtest(100000, 1, 5)\n"
   ]
  },
  {
   "cell_type": "code",
   "execution_count": 39,
   "id": "0f6b4370-f50c-4a88-bef7-528712c9f1e1",
   "metadata": {},
   "outputs": [
    {
     "name": "stdout",
     "output_type": "stream",
     "text": [
      "PNL = $1834.53\n",
      "Trade Count = 123\n",
      "Max win trade = $606.06\n",
      "Max loss trade = $-200.0\n",
      "AVG trade value = $14.91\n",
      "Start/End date = 2021-01-04 - 2021-02-12\n"
     ]
    },
    {
     "data": {},
     "metadata": {},
     "output_type": "display_data"
    },
    {
     "data": {
      "application/vnd.holoviews_exec.v0+json": "",
      "text/html": [
       "<div id='2222'>\n",
       "\n",
       "\n",
       "\n",
       "\n",
       "\n",
       "  <div class=\"bk-root\" id=\"f1b96ad5-14d4-419b-b4fa-8ca141e10280\" data-root-id=\"2222\"></div>\n",
       "</div>\n",
       "<script type=\"application/javascript\">(function(root) {\n",
       "  function embed_document(root) {\n",
       "    var docs_json = {\"3d75206a-b199-4722-a666-b79ad281a5df\":{\"defs\":[{\"extends\":null,\"module\":null,\"name\":\"ReactiveHTML1\",\"overrides\":[],\"properties\":[]},{\"extends\":null,\"module\":null,\"name\":\"FlexBox1\",\"overrides\":[],\"properties\":[{\"default\":\"flex-start\",\"kind\":null,\"name\":\"align_content\"},{\"default\":\"flex-start\",\"kind\":null,\"name\":\"align_items\"},{\"default\":\"row\",\"kind\":null,\"name\":\"flex_direction\"},{\"default\":\"wrap\",\"kind\":null,\"name\":\"flex_wrap\"},{\"default\":\"flex-start\",\"kind\":null,\"name\":\"justify_content\"}]},{\"extends\":null,\"module\":null,\"name\":\"TemplateActions1\",\"overrides\":[],\"properties\":[{\"default\":0,\"kind\":null,\"name\":\"open_modal\"},{\"default\":0,\"kind\":null,\"name\":\"close_modal\"}]},{\"extends\":null,\"module\":null,\"name\":\"MaterialTemplateActions1\",\"overrides\":[],\"properties\":[{\"default\":0,\"kind\":null,\"name\":\"open_modal\"},{\"default\":0,\"kind\":null,\"name\":\"close_modal\"}]}],\"roots\":{\"references\":[{\"attributes\":{\"axis\":{\"id\":\"2240\"},\"coordinates\":null,\"dimension\":1,\"grid_line_color\":null,\"group\":null,\"ticker\":null},\"id\":\"2243\",\"type\":\"Grid\"},{\"attributes\":{},\"id\":\"2268\",\"type\":\"AllLabels\"},{\"attributes\":{\"margin\":[5,5,5,5],\"name\":\"HSpacer03544\",\"sizing_mode\":\"stretch_width\"},\"id\":\"2292\",\"type\":\"Spacer\"},{\"attributes\":{\"coordinates\":null,\"group\":null,\"text\":\"Buzzscore Backtest -  PNL $1834.53     [2021-01-04  -  2021-02-12]\",\"text_color\":\"black\",\"text_font_size\":\"12pt\"},\"id\":\"2228\",\"type\":\"Title\"},{\"attributes\":{\"source\":{\"id\":\"2257\"}},\"id\":\"2264\",\"type\":\"CDSView\"},{\"attributes\":{\"data\":{\"0\":{\"__ndarray__\":\"H4XrUbgeU0CQwvUoXK9CQJqZmZmZuUJA2KNwPQrXRkCkcD0K1yNlQArXo3A9+l5A9ihcj8IFU8B7FK5H4RpcwPYoXI/CVV7ArkfhehQORcDNzMzMzNxUQFK4HoXrHXhAPQrXo3D/jkAehetRuOCOQLgehetRIo9AXI/C9SjGjkC4HoXrUeyMQD0K16Nwg4xAAAAAAADQjkDXo3A9CsmNQDMzMzMzY45AMzMzMzMjiEC4HoXrUeKGQJmZmZmZZ4ZAhetRuB5nhkBcj8L1KHyFQI/C9ShcLYZAMzMzMzN3h0AzMzMzMzeBQMzMzMzMSH5AW4/C9SggfkB6FK5H4cCAQGZmZmZmBIJAAAAAAABCgkD2KFyPwm+LQBWuR+F6YIlAZ2ZmZmY8hEBej8L1KOx+QKZwPQrX431A9yhcj8JlgEBpZmZmZtJ/QCpcj8L1XoBAVLgehes9dEBoZmZmZuJ0QM7MzMzMCHVAFq5H4Xq4dEDZo3A9Cu9zQGSPwvUovF1AdD0K16NAZkA1MzMzMz95QAIAAAAApHlAAgAAAACMcUA0MzMzMzWGQJqZmZmZ8YRASOF6FK4/h0DNzMzMzOiHQM3MzMzM4IpAFa5H4XoChkA0MzMzM0WFQM7MzMzM2oBAIIXrUbgUhkCRwvUoXGWFQNmjcD0K54RAIYXrUbi4gkCH61G4HoeBQDUzMzMzJYNAIIXrUbgYgEBACtejcLFzQPZRuB6F61xAU7gehesrhkBTuB6F62+FQHwUrkfhXIRAaGZmZmb6jUA0MzMzM5+RQOJ6FK5HGZBAXY/C9Sj7kkC6HoXrUbaPQLoehetRdolAIIXrUbhOiEAghetRuA6CQFO4HoXr84lAXY/C9SjMi0C5HoXrUW6GQBWuR+F6vodAFa5H4XrAiEAVrkfheoCCQK9H4XoU6oRA7FG4HoWphkDsUbgehWmAQOJ6FK5HOYBAmpmZmZlNhUCkcD0K1xWIQD4K16Nw1YpA7FG4HoXpjkBxPQrXo1iRQClcj8L1nJZAFa5H4XrilkB7FK5H4d+WQOxRuB6FxpdA4noUrkdol0BnZmZmZkmXQPYoXI/CXpdAPgrXo3DQl0A+CtejcL6YQOJ6FK5Hn5hAXY/C9SifmUBdj8L1KCOaQCCF61G4MppA2KNwPQrTmkD3KFyPwmGYQJuZmZmZf5xAr0fhehQjnEC5HoXrUSmcQLkehetRCZlA2KNwPQrol0DiehSuR3SXQB+F61G4MZhAFa5H4XqGmECkcD0K18WYQK5H4XoUjZhAFK5H4XpLmUBcj8L1KBebQIXrUbgeqpxA\",\"dtype\":\"float64\",\"order\":\"little\",\"shape\":[123]},\"A_0\":{\"__ndarray__\":\"H4XrUbgeU0CQwvUoXK9CQJqZmZmZuUJA2KNwPQrXRkCkcD0K1yNlQArXo3A9+l5A9ihcj8IFU8B7FK5H4RpcwPYoXI/CVV7ArkfhehQORcDNzMzMzNxUQFK4HoXrHXhAPQrXo3D/jkAehetRuOCOQLgehetRIo9AXI/C9SjGjkC4HoXrUeyMQD0K16Nwg4xAAAAAAADQjkDXo3A9CsmNQDMzMzMzY45AMzMzMzMjiEC4HoXrUeKGQJmZmZmZZ4ZAhetRuB5nhkBcj8L1KHyFQI/C9ShcLYZAMzMzMzN3h0AzMzMzMzeBQMzMzMzMSH5AW4/C9SggfkB6FK5H4cCAQGZmZmZmBIJAAAAAAABCgkD2KFyPwm+LQBWuR+F6YIlAZ2ZmZmY8hEBej8L1KOx+QKZwPQrX431A9yhcj8JlgEBpZmZmZtJ/QCpcj8L1XoBAVLgehes9dEBoZmZmZuJ0QM7MzMzMCHVAFq5H4Xq4dEDZo3A9Cu9zQGSPwvUovF1AdD0K16NAZkA1MzMzMz95QAIAAAAApHlAAgAAAACMcUA0MzMzMzWGQJqZmZmZ8YRASOF6FK4/h0DNzMzMzOiHQM3MzMzM4IpAFa5H4XoChkA0MzMzM0WFQM7MzMzM2oBAIIXrUbgUhkCRwvUoXGWFQNmjcD0K54RAIYXrUbi4gkCH61G4HoeBQDUzMzMzJYNAIIXrUbgYgEBACtejcLFzQPZRuB6F61xAU7gehesrhkBTuB6F62+FQHwUrkfhXIRAaGZmZmb6jUA0MzMzM5+RQOJ6FK5HGZBAXY/C9Sj7kkC6HoXrUbaPQLoehetRdolAIIXrUbhOiEAghetRuA6CQFO4HoXr84lAXY/C9SjMi0C5HoXrUW6GQBWuR+F6vodAFa5H4XrAiEAVrkfheoCCQK9H4XoU6oRA7FG4HoWphkDsUbgehWmAQOJ6FK5HOYBAmpmZmZlNhUCkcD0K1xWIQD4K16Nw1YpA7FG4HoXpjkBxPQrXo1iRQClcj8L1nJZAFa5H4XrilkB7FK5H4d+WQOxRuB6FxpdA4noUrkdol0BnZmZmZkmXQPYoXI/CXpdAPgrXo3DQl0A+CtejcL6YQOJ6FK5Hn5hAXY/C9SifmUBdj8L1KCOaQCCF61G4MppA2KNwPQrTmkD3KFyPwmGYQJuZmZmZf5xAr0fhehQjnEC5HoXrUSmcQLkehetRCZlA2KNwPQrol0DiehSuR3SXQB+F61G4MZhAFa5H4XqGmECkcD0K18WYQK5H4XoUjZhAFK5H4XpLmUBcj8L1KBebQIXrUbgeqpxA\",\"dtype\":\"float64\",\"order\":\"little\",\"shape\":[123]},\"index\":[0,1,2,3,4,5,6,7,8,9,10,11,12,13,14,15,16,17,18,19,20,21,22,23,24,25,26,27,28,29,30,31,32,33,34,35,36,37,38,39,40,41,42,43,44,45,46,47,48,49,50,51,52,53,54,55,56,57,58,59,60,61,62,63,64,65,66,67,68,69,70,71,72,73,74,75,76,77,78,79,80,81,82,83,84,85,86,87,88,89,90,91,92,93,94,95,96,97,98,99,100,101,102,103,104,105,106,107,108,109,110,111,112,113,114,115,116,117,118,119,120,121,122]},\"selected\":{\"id\":\"2258\"},\"selection_policy\":{\"id\":\"2279\"}},\"id\":\"2257\",\"type\":\"ColumnDataSource\"},{\"attributes\":{\"callback\":null,\"renderers\":[{\"id\":\"2263\"}],\"tags\":[\"hv_created\"],\"tooltips\":[[\"index\",\"@{index}\"],[\"0\",\"@{A_0}\"]]},\"id\":\"2226\",\"type\":\"HoverTool\"},{\"attributes\":{\"line_alpha\":0.2,\"line_color\":\"#30a2da\",\"line_width\":2,\"x\":{\"field\":\"index\"},\"y\":{\"field\":\"0\"}},\"id\":\"2262\",\"type\":\"Line\"},{\"attributes\":{\"axis_label\":\"Trade Index\",\"coordinates\":null,\"formatter\":{\"id\":\"2267\"},\"group\":null,\"major_label_policy\":{\"id\":\"2268\"},\"ticker\":{\"id\":\"2237\"}},\"id\":\"2236\",\"type\":\"LinearAxis\"},{\"attributes\":{},\"id\":\"2244\",\"type\":\"SaveTool\"},{\"attributes\":{},\"id\":\"2271\",\"type\":\"AllLabels\"},{\"attributes\":{},\"id\":\"2267\",\"type\":\"BasicTickFormatter\"},{\"attributes\":{\"line_alpha\":0.1,\"line_color\":\"#30a2da\",\"line_width\":2,\"x\":{\"field\":\"index\"},\"y\":{\"field\":\"0\"}},\"id\":\"2261\",\"type\":\"Line\"},{\"attributes\":{},\"id\":\"2232\",\"type\":\"LinearScale\"},{\"attributes\":{\"tools\":[{\"id\":\"2226\"},{\"id\":\"2244\"},{\"id\":\"2245\"},{\"id\":\"2246\"},{\"id\":\"2247\"},{\"id\":\"2248\"}]},\"id\":\"2250\",\"type\":\"Toolbar\"},{\"attributes\":{\"below\":[{\"id\":\"2236\"}],\"center\":[{\"id\":\"2239\"},{\"id\":\"2243\"}],\"height\":300,\"left\":[{\"id\":\"2240\"}],\"margin\":[5,5,5,5],\"min_border_bottom\":10,\"min_border_left\":10,\"min_border_right\":10,\"min_border_top\":10,\"renderers\":[{\"id\":\"2263\"}],\"sizing_mode\":\"fixed\",\"title\":{\"id\":\"2228\"},\"toolbar\":{\"id\":\"2250\"},\"width\":700,\"x_range\":{\"id\":\"2224\"},\"x_scale\":{\"id\":\"2232\"},\"y_range\":{\"id\":\"2225\"},\"y_scale\":{\"id\":\"2234\"}},\"id\":\"2227\",\"subtype\":\"Figure\",\"type\":\"Plot\"},{\"attributes\":{\"bottom_units\":\"screen\",\"coordinates\":null,\"fill_alpha\":0.5,\"fill_color\":\"lightgrey\",\"group\":null,\"left_units\":\"screen\",\"level\":\"overlay\",\"line_alpha\":1.0,\"line_color\":\"black\",\"line_dash\":[4,4],\"line_width\":2,\"right_units\":\"screen\",\"syncable\":false,\"top_units\":\"screen\"},\"id\":\"2249\",\"type\":\"BoxAnnotation\"},{\"attributes\":{},\"id\":\"2270\",\"type\":\"BasicTickFormatter\"},{\"attributes\":{},\"id\":\"2258\",\"type\":\"Selection\"},{\"attributes\":{\"coordinates\":null,\"data_source\":{\"id\":\"2257\"},\"glyph\":{\"id\":\"2260\"},\"group\":null,\"hover_glyph\":null,\"muted_glyph\":{\"id\":\"2262\"},\"nonselection_glyph\":{\"id\":\"2261\"},\"selection_glyph\":{\"id\":\"2265\"},\"view\":{\"id\":\"2264\"}},\"id\":\"2263\",\"type\":\"GlyphRenderer\"},{\"attributes\":{\"axis\":{\"id\":\"2236\"},\"coordinates\":null,\"grid_line_color\":null,\"group\":null,\"ticker\":null},\"id\":\"2239\",\"type\":\"Grid\"},{\"attributes\":{},\"id\":\"2246\",\"type\":\"WheelZoomTool\"},{\"attributes\":{},\"id\":\"2241\",\"type\":\"BasicTicker\"},{\"attributes\":{\"end\":2030.117,\"reset_end\":2030.117,\"reset_start\":-316.927,\"start\":-316.927,\"tags\":[[[\"0\",\"0\",null]]]},\"id\":\"2225\",\"type\":\"Range1d\"},{\"attributes\":{\"axis_label\":\"PNL\",\"coordinates\":null,\"formatter\":{\"id\":\"2270\"},\"group\":null,\"major_label_policy\":{\"id\":\"2271\"},\"ticker\":{\"id\":\"2241\"}},\"id\":\"2240\",\"type\":\"LinearAxis\"},{\"attributes\":{},\"id\":\"2237\",\"type\":\"BasicTicker\"},{\"attributes\":{},\"id\":\"2279\",\"type\":\"UnionRenderers\"},{\"attributes\":{\"end\":122.0,\"reset_end\":122.0,\"reset_start\":0.0,\"tags\":[[[\"index\",\"index\",null]]]},\"id\":\"2224\",\"type\":\"Range1d\"},{\"attributes\":{\"margin\":[5,5,5,5],\"name\":\"HSpacer03543\",\"sizing_mode\":\"stretch_width\"},\"id\":\"2223\",\"type\":\"Spacer\"},{\"attributes\":{},\"id\":\"2248\",\"type\":\"ResetTool\"},{\"attributes\":{},\"id\":\"2245\",\"type\":\"PanTool\"},{\"attributes\":{},\"id\":\"2234\",\"type\":\"LinearScale\"},{\"attributes\":{\"overlay\":{\"id\":\"2249\"}},\"id\":\"2247\",\"type\":\"BoxZoomTool\"},{\"attributes\":{\"line_color\":\"#30a2da\",\"line_width\":2,\"x\":{\"field\":\"index\"},\"y\":{\"field\":\"0\"}},\"id\":\"2265\",\"type\":\"Line\"},{\"attributes\":{\"line_color\":\"#30a2da\",\"line_width\":2,\"x\":{\"field\":\"index\"},\"y\":{\"field\":\"0\"}},\"id\":\"2260\",\"type\":\"Line\"},{\"attributes\":{\"children\":[{\"id\":\"2223\"},{\"id\":\"2227\"},{\"id\":\"2292\"}],\"margin\":[0,0,0,0],\"name\":\"Row03539\",\"tags\":[\"embedded\"]},\"id\":\"2222\",\"type\":\"Row\"}],\"root_ids\":[\"2222\"]},\"title\":\"Bokeh Application\",\"version\":\"2.4.1\"}};\n",
       "    var render_items = [{\"docid\":\"3d75206a-b199-4722-a666-b79ad281a5df\",\"root_ids\":[\"2222\"],\"roots\":{\"2222\":\"f1b96ad5-14d4-419b-b4fa-8ca141e10280\"}}];\n",
       "    root.Bokeh.embed.embed_items_notebook(docs_json, render_items);\n",
       "  }\n",
       "  if (root.Bokeh !== undefined && root.Bokeh.Panel !== undefined) {\n",
       "    embed_document(root);\n",
       "  } else {\n",
       "    var attempts = 0;\n",
       "    var timer = setInterval(function(root) {\n",
       "      if (root.Bokeh !== undefined && root.Bokeh.Panel !== undefined) {\n",
       "        clearInterval(timer);\n",
       "        embed_document(root);\n",
       "      } else if (document.readyState == \"complete\") {\n",
       "        attempts++;\n",
       "        if (attempts > 200) {\n",
       "          clearInterval(timer);\n",
       "          console.log(\"Bokeh: ERROR: Unable to run BokehJS code because BokehJS library is missing\");\n",
       "        }\n",
       "      }\n",
       "    }, 25, root)\n",
       "  }\n",
       "})(window);</script>"
      ],
      "text/plain": [
       ":Curve   [index]   (0)"
      ]
     },
     "execution_count": 39,
     "metadata": {
      "application/vnd.holoviews_exec.v0+json": {
       "id": "2222"
      }
     },
     "output_type": "execute_result"
    }
   ],
   "source": [
    "# Calculating start and end date of trading days\n",
    "start = date_csv[\"date\"][0]\n",
    "end = date_csv[\"date\"][len(date_csv[\"date\"])-1]\n",
    "\n",
    "# Calculating cumsum profit\n",
    "profit_df = pd.DataFrame(pnl).cumsum()\n",
    "\n",
    "# Plotting profit data and printing key data\n",
    "plot_pnl = profit_df.hvplot(ylabel = \"PNL\", xlabel = \"Trade Index\", title = f\"Buzzscore Backtest -  PNL ${round(sum(pnl), 2)}     [{start}\"f\"  -  {end}]\")\n",
    "print(f\"PNL = ${sum(pnl)}\")\n",
    "print(f\"Trade Count = {len(pnl)}\")\n",
    "print(f\"Max win trade = ${max(pnl)}\")\n",
    "print(f\"Max loss trade = ${min(pnl)}\")\n",
    "print(f\"AVG trade value = ${round(sum(pnl)/len(pnl),2)}\")\n",
    "print(f\"Start/End date = {start}\"f\" - {end}\")\n",
    "plot_pnl"
   ]
  },
  {
   "cell_type": "code",
   "execution_count": 41,
   "id": "c178dd7c-258b-4b58-a022-02d1e262db98",
   "metadata": {},
   "outputs": [
    {
     "data": {},
     "metadata": {},
     "output_type": "display_data"
    },
    {
     "data": {
      "application/vnd.holoviews_exec.v0+json": "",
      "text/html": [
       "<div id='2466'>\n",
       "\n",
       "\n",
       "\n",
       "\n",
       "\n",
       "  <div class=\"bk-root\" id=\"bcd32332-9a5a-4da5-b3ef-e0eef365a723\" data-root-id=\"2466\"></div>\n",
       "</div>\n",
       "<script type=\"application/javascript\">(function(root) {\n",
       "  function embed_document(root) {\n",
       "    var docs_json = {\"6696dce8-c530-4979-a04e-6d8272dfb4ef\":{\"defs\":[{\"extends\":null,\"module\":null,\"name\":\"ReactiveHTML1\",\"overrides\":[],\"properties\":[]},{\"extends\":null,\"module\":null,\"name\":\"FlexBox1\",\"overrides\":[],\"properties\":[{\"default\":\"flex-start\",\"kind\":null,\"name\":\"align_content\"},{\"default\":\"flex-start\",\"kind\":null,\"name\":\"align_items\"},{\"default\":\"row\",\"kind\":null,\"name\":\"flex_direction\"},{\"default\":\"wrap\",\"kind\":null,\"name\":\"flex_wrap\"},{\"default\":\"flex-start\",\"kind\":null,\"name\":\"justify_content\"}]},{\"extends\":null,\"module\":null,\"name\":\"TemplateActions1\",\"overrides\":[],\"properties\":[{\"default\":0,\"kind\":null,\"name\":\"open_modal\"},{\"default\":0,\"kind\":null,\"name\":\"close_modal\"}]},{\"extends\":null,\"module\":null,\"name\":\"MaterialTemplateActions1\",\"overrides\":[],\"properties\":[{\"default\":0,\"kind\":null,\"name\":\"open_modal\"},{\"default\":0,\"kind\":null,\"name\":\"close_modal\"}]}],\"roots\":{\"references\":[{\"attributes\":{},\"id\":\"2502\",\"type\":\"Selection\"},{\"attributes\":{},\"id\":\"2489\",\"type\":\"PanTool\"},{\"attributes\":{\"bottom_units\":\"screen\",\"coordinates\":null,\"fill_alpha\":0.5,\"fill_color\":\"lightgrey\",\"group\":null,\"left_units\":\"screen\",\"level\":\"overlay\",\"line_alpha\":1.0,\"line_color\":\"black\",\"line_dash\":[4,4],\"line_width\":2,\"right_units\":\"screen\",\"syncable\":false,\"top_units\":\"screen\"},\"id\":\"2493\",\"type\":\"BoxAnnotation\"},{\"attributes\":{\"source\":{\"id\":\"2501\"}},\"id\":\"2508\",\"type\":\"CDSView\"},{\"attributes\":{},\"id\":\"2490\",\"type\":\"WheelZoomTool\"},{\"attributes\":{\"coordinates\":null,\"data_source\":{\"id\":\"2501\"},\"glyph\":{\"id\":\"2504\"},\"group\":null,\"hover_glyph\":null,\"muted_glyph\":{\"id\":\"2506\"},\"nonselection_glyph\":{\"id\":\"2505\"},\"selection_glyph\":{\"id\":\"2509\"},\"view\":{\"id\":\"2508\"}},\"id\":\"2507\",\"type\":\"GlyphRenderer\"},{\"attributes\":{\"axis_label\":\"PNL Per Trade\",\"coordinates\":null,\"formatter\":{\"id\":\"2514\"},\"group\":null,\"major_label_policy\":{\"id\":\"2515\"},\"ticker\":{\"id\":\"2485\"}},\"id\":\"2484\",\"type\":\"LinearAxis\"},{\"attributes\":{},\"id\":\"2512\",\"type\":\"AllLabels\"},{\"attributes\":{\"axis_label\":\"Trade Index\",\"coordinates\":null,\"formatter\":{\"id\":\"2511\"},\"group\":null,\"major_label_policy\":{\"id\":\"2512\"},\"ticker\":{\"id\":\"2481\"}},\"id\":\"2480\",\"type\":\"LinearAxis\"},{\"attributes\":{},\"id\":\"2515\",\"type\":\"AllLabels\"},{\"attributes\":{},\"id\":\"2485\",\"type\":\"BasicTicker\"},{\"attributes\":{\"line_color\":\"#30a2da\",\"line_width\":2,\"x\":{\"field\":\"index\"},\"y\":{\"field\":\"0\"}},\"id\":\"2504\",\"type\":\"Line\"},{\"attributes\":{\"line_alpha\":0.2,\"line_color\":\"#30a2da\",\"line_width\":2,\"x\":{\"field\":\"index\"},\"y\":{\"field\":\"0\"}},\"id\":\"2506\",\"type\":\"Line\"},{\"attributes\":{},\"id\":\"2488\",\"type\":\"SaveTool\"},{\"attributes\":{\"line_alpha\":0.1,\"line_color\":\"#30a2da\",\"line_width\":2,\"x\":{\"field\":\"index\"},\"y\":{\"field\":\"0\"}},\"id\":\"2505\",\"type\":\"Line\"},{\"attributes\":{\"below\":[{\"id\":\"2480\"}],\"center\":[{\"id\":\"2483\"},{\"id\":\"2487\"}],\"height\":300,\"left\":[{\"id\":\"2484\"}],\"margin\":[5,5,5,5],\"min_border_bottom\":10,\"min_border_left\":10,\"min_border_right\":10,\"min_border_top\":10,\"renderers\":[{\"id\":\"2507\"}],\"sizing_mode\":\"fixed\",\"title\":{\"id\":\"2472\"},\"toolbar\":{\"id\":\"2494\"},\"width\":700,\"x_range\":{\"id\":\"2468\"},\"x_scale\":{\"id\":\"2476\"},\"y_range\":{\"id\":\"2469\"},\"y_scale\":{\"id\":\"2478\"}},\"id\":\"2471\",\"subtype\":\"Figure\",\"type\":\"Plot\"},{\"attributes\":{\"end\":686.6659999999999,\"reset_end\":686.6659999999999,\"reset_start\":-280.606,\"start\":-280.606,\"tags\":[[[\"0\",\"0\",null]]]},\"id\":\"2469\",\"type\":\"Range1d\"},{\"attributes\":{},\"id\":\"2476\",\"type\":\"LinearScale\"},{\"attributes\":{\"axis\":{\"id\":\"2484\"},\"coordinates\":null,\"dimension\":1,\"grid_line_color\":null,\"group\":null,\"ticker\":null},\"id\":\"2487\",\"type\":\"Grid\"},{\"attributes\":{\"callback\":null,\"renderers\":[{\"id\":\"2507\"}],\"tags\":[\"hv_created\"],\"tooltips\":[[\"index\",\"@{index}\"],[\"0\",\"@{A_0}\"]]},\"id\":\"2470\",\"type\":\"HoverTool\"},{\"attributes\":{},\"id\":\"2511\",\"type\":\"BasicTickFormatter\"},{\"attributes\":{},\"id\":\"2514\",\"type\":\"BasicTickFormatter\"},{\"attributes\":{\"tools\":[{\"id\":\"2470\"},{\"id\":\"2488\"},{\"id\":\"2489\"},{\"id\":\"2490\"},{\"id\":\"2491\"},{\"id\":\"2492\"}]},\"id\":\"2494\",\"type\":\"Toolbar\"},{\"attributes\":{\"margin\":[5,5,5,5],\"name\":\"HSpacer03897\",\"sizing_mode\":\"stretch_width\"},\"id\":\"2467\",\"type\":\"Spacer\"},{\"attributes\":{\"end\":122.0,\"reset_end\":122.0,\"reset_start\":0.0,\"tags\":[[[\"index\",\"index\",null]]]},\"id\":\"2468\",\"type\":\"Range1d\"},{\"attributes\":{},\"id\":\"2481\",\"type\":\"BasicTicker\"},{\"attributes\":{},\"id\":\"2523\",\"type\":\"UnionRenderers\"},{\"attributes\":{\"margin\":[5,5,5,5],\"name\":\"HSpacer03898\",\"sizing_mode\":\"stretch_width\"},\"id\":\"2536\",\"type\":\"Spacer\"},{\"attributes\":{},\"id\":\"2478\",\"type\":\"LinearScale\"},{\"attributes\":{},\"id\":\"2492\",\"type\":\"ResetTool\"},{\"attributes\":{\"line_color\":\"#30a2da\",\"line_width\":2,\"x\":{\"field\":\"index\"},\"y\":{\"field\":\"0\"}},\"id\":\"2509\",\"type\":\"Line\"},{\"attributes\":{\"overlay\":{\"id\":\"2493\"}},\"id\":\"2491\",\"type\":\"BoxZoomTool\"},{\"attributes\":{\"axis\":{\"id\":\"2480\"},\"coordinates\":null,\"grid_line_color\":null,\"group\":null,\"ticker\":null},\"id\":\"2483\",\"type\":\"Grid\"},{\"attributes\":{\"coordinates\":null,\"group\":null,\"text\":\"Buzzscore Backtest -  PNL $1834.53     [2021-01-04  -  2021-02-12]\",\"text_color\":\"black\",\"text_font_size\":\"12pt\"},\"id\":\"2472\",\"type\":\"Title\"},{\"attributes\":{\"data\":{\"0\":{\"__ndarray__\":\"H4XrUbgeU0CuR+F6FI5DwHsUrkfherQ/9ihcj8J1IEBcj8L1KNxeQHsUrkfhmkbAAAAAAAAAacAK16NwPSpCwNejcD0K1yHAH4XrUbjOU0CkcD0K12NfQB+F61G45nJAFK5H4XrwgkC4HoXrUbgOwGZmZmZmZiBACtejcD0KJ8A9CtejcJ1NwLgehetROCrAFK5H4XpkUkCPwvUoXG9AwIXrUbgeRTNAAAAAAAAAacCuR+F6FA5EwK5H4XoUri7AuB6F61G4rr8fhetRuF49wGZmZmZmJjZAPQrXo3CdREAAAAAAAABpwGZmZmZmllDAUrgehetRBMDNzMzMzAxLQLgehetROERAzczMzMzMHkDsUbgehVtyQArXo3A9elDAuB6F61GQZMDhehSuRxljwIXrUbgehTDAPQrXo3A9R0CkcD0K1yMvwHE9CtejcC1AAAAAAAAAacCPwvUoXI8kQDMzMzMzMwNAFK5H4XoUFMCuR+F6FC4pwAAAAAAAAGnACtejcD2KTUD2KFyPwj1sQDMzMzMzMxlAAAAAAAAwYMBmZmZmZt56QJqZmZmZOUTAcT0K16NwUkCkcD0K1yM1QAAAAAAAwFdA4XoUrkd5Y8ApXI/C9ag3wJqZmZmZqWHASOF6FK7nZEDsUbgehes1wBSuR+F6lC/Aw/UoXI9yUcCamZmZmRlDwOF6FK5H4UlApHA9CtdjWMAAAAAAAABpwIXrUbge7WjAFK5H4XqOgkAAAAAAAIA3wHE9CtejMEHA16NwPQo7c0AAAAAAABBlQB+F61G4XljA16NwPQoPZ0AAAAAAAABpwAAAAAAAAGnAmpmZmZl5QsAAAAAAAABpwM3MzMzMlG9ApHA9CteDTUCPwvUoXHdlwMP1KFyPAkVAAAAAAAAgQEAAAAAAAABpwM3MzMzMTFNA16NwPQr3S0AAAAAAAABpwB+F61G4HhjA4XoUrkdRZEBSuB6F60FWQM3MzMzM/FVAuB6F61FQYECuR+F6FD5eQOF6FK5HEXVA4XoUrkdhMUDNzMzMzMzkvxSuR+F61ExAj8L1KFyPN8DhehSuR+EewFyPwvUoXBVA7FG4HoVrPEAAAAAAAMBNQClcj8L1KB/AXI/C9Sj8T0AAAAAAAIBAQB+F61G4Hg9ACtejcD0KREAK16NwPYpjwI/C9Shcd3BA4XoUrkchN8D2KFyPwvX4PwAAAAAAAGnAFK5H4XoUUsBxPQrXo/A8wK5H4XoUrkdAcT0K16MwNUCuR+F6FK4vQOF6FK5HYSzAzczMzMzMR0B7FK5H4bpcQI/C9ShcL1lA\",\"dtype\":\"float64\",\"order\":\"little\",\"shape\":[123]},\"A_0\":{\"__ndarray__\":\"H4XrUbgeU0CuR+F6FI5DwHsUrkfherQ/9ihcj8J1IEBcj8L1KNxeQHsUrkfhmkbAAAAAAAAAacAK16NwPSpCwNejcD0K1yHAH4XrUbjOU0CkcD0K12NfQB+F61G45nJAFK5H4XrwgkC4HoXrUbgOwGZmZmZmZiBACtejcD0KJ8A9CtejcJ1NwLgehetROCrAFK5H4XpkUkCPwvUoXG9AwIXrUbgeRTNAAAAAAAAAacCuR+F6FA5EwK5H4XoUri7AuB6F61G4rr8fhetRuF49wGZmZmZmJjZAPQrXo3CdREAAAAAAAABpwGZmZmZmllDAUrgehetRBMDNzMzMzAxLQLgehetROERAzczMzMzMHkDsUbgehVtyQArXo3A9elDAuB6F61GQZMDhehSuRxljwIXrUbgehTDAPQrXo3A9R0CkcD0K1yMvwHE9CtejcC1AAAAAAAAAacCPwvUoXI8kQDMzMzMzMwNAFK5H4XoUFMCuR+F6FC4pwAAAAAAAAGnACtejcD2KTUD2KFyPwj1sQDMzMzMzMxlAAAAAAAAwYMBmZmZmZt56QJqZmZmZOUTAcT0K16NwUkCkcD0K1yM1QAAAAAAAwFdA4XoUrkd5Y8ApXI/C9ag3wJqZmZmZqWHASOF6FK7nZEDsUbgehes1wBSuR+F6lC/Aw/UoXI9yUcCamZmZmRlDwOF6FK5H4UlApHA9CtdjWMAAAAAAAABpwIXrUbge7WjAFK5H4XqOgkAAAAAAAIA3wHE9CtejMEHA16NwPQo7c0AAAAAAABBlQB+F61G4XljA16NwPQoPZ0AAAAAAAABpwAAAAAAAAGnAmpmZmZl5QsAAAAAAAABpwM3MzMzMlG9ApHA9CteDTUCPwvUoXHdlwMP1KFyPAkVAAAAAAAAgQEAAAAAAAABpwM3MzMzMTFNA16NwPQr3S0AAAAAAAABpwB+F61G4HhjA4XoUrkdRZEBSuB6F60FWQM3MzMzM/FVAuB6F61FQYECuR+F6FD5eQOF6FK5HEXVA4XoUrkdhMUDNzMzMzMzkvxSuR+F61ExAj8L1KFyPN8DhehSuR+EewFyPwvUoXBVA7FG4HoVrPEAAAAAAAMBNQClcj8L1KB/AXI/C9Sj8T0AAAAAAAIBAQB+F61G4Hg9ACtejcD0KREAK16NwPYpjwI/C9Shcd3BA4XoUrkchN8D2KFyPwvX4PwAAAAAAAGnAFK5H4XoUUsBxPQrXo/A8wK5H4XoUrkdAcT0K16MwNUCuR+F6FK4vQOF6FK5HYSzAzczMzMzMR0B7FK5H4bpcQI/C9ShcL1lA\",\"dtype\":\"float64\",\"order\":\"little\",\"shape\":[123]},\"index\":[0,1,2,3,4,5,6,7,8,9,10,11,12,13,14,15,16,17,18,19,20,21,22,23,24,25,26,27,28,29,30,31,32,33,34,35,36,37,38,39,40,41,42,43,44,45,46,47,48,49,50,51,52,53,54,55,56,57,58,59,60,61,62,63,64,65,66,67,68,69,70,71,72,73,74,75,76,77,78,79,80,81,82,83,84,85,86,87,88,89,90,91,92,93,94,95,96,97,98,99,100,101,102,103,104,105,106,107,108,109,110,111,112,113,114,115,116,117,118,119,120,121,122]},\"selected\":{\"id\":\"2502\"},\"selection_policy\":{\"id\":\"2523\"}},\"id\":\"2501\",\"type\":\"ColumnDataSource\"},{\"attributes\":{\"children\":[{\"id\":\"2467\"},{\"id\":\"2471\"},{\"id\":\"2536\"}],\"margin\":[0,0,0,0],\"name\":\"Row03893\",\"tags\":[\"embedded\"]},\"id\":\"2466\",\"type\":\"Row\"}],\"root_ids\":[\"2466\"]},\"title\":\"Bokeh Application\",\"version\":\"2.4.1\"}};\n",
       "    var render_items = [{\"docid\":\"6696dce8-c530-4979-a04e-6d8272dfb4ef\",\"root_ids\":[\"2466\"],\"roots\":{\"2466\":\"bcd32332-9a5a-4da5-b3ef-e0eef365a723\"}}];\n",
       "    root.Bokeh.embed.embed_items_notebook(docs_json, render_items);\n",
       "  }\n",
       "  if (root.Bokeh !== undefined && root.Bokeh.Panel !== undefined) {\n",
       "    embed_document(root);\n",
       "  } else {\n",
       "    var attempts = 0;\n",
       "    var timer = setInterval(function(root) {\n",
       "      if (root.Bokeh !== undefined && root.Bokeh.Panel !== undefined) {\n",
       "        clearInterval(timer);\n",
       "        embed_document(root);\n",
       "      } else if (document.readyState == \"complete\") {\n",
       "        attempts++;\n",
       "        if (attempts > 200) {\n",
       "          clearInterval(timer);\n",
       "          console.log(\"Bokeh: ERROR: Unable to run BokehJS code because BokehJS library is missing\");\n",
       "        }\n",
       "      }\n",
       "    }, 25, root)\n",
       "  }\n",
       "})(window);</script>"
      ],
      "text/plain": [
       ":Curve   [index]   (0)"
      ]
     },
     "execution_count": 41,
     "metadata": {
      "application/vnd.holoviews_exec.v0+json": {
       "id": "2466"
      }
     },
     "output_type": "execute_result"
    }
   ],
   "source": [
    "# Plot for visualizing outliers\n",
    "plot_pnl_outliers = pd.DataFrame(pnl)\n",
    "\n",
    "plot_pnl_outliers = plot_pnl_outliers.hvplot(ylabel = \"PNL Per Trade\", xlabel = \"Trade Index\", title = f\"Buzzscore Backtest -  PNL ${round(sum(pnl), 2)}     [{start}\"f\"  -  {end}]\")\n",
    "plot_pnl_outliers"
   ]
  }
 ],
 "metadata": {
  "kernelspec": {
   "display_name": "Python 3 (ipykernel)",
   "language": "python",
   "name": "python3"
  },
  "language_info": {
   "codemirror_mode": {
    "name": "ipython",
    "version": 3
   },
   "file_extension": ".py",
   "mimetype": "text/x-python",
   "name": "python",
   "nbconvert_exporter": "python",
   "pygments_lexer": "ipython3",
   "version": "3.8.5"
  }
 },
 "nbformat": 4,
 "nbformat_minor": 5
}
